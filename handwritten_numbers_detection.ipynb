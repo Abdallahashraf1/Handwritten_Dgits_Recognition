{
 "cells": [
  {
   "cell_type": "code",
   "execution_count": 3,
   "metadata": {
    "id": "g8-h9QnWu4w2"
   },
   "outputs": [],
   "source": [
    "import numpy as np\n",
    "import tensorflow as tf\n",
    "from tensorflow import keras\n",
    "\n",
    "%matplotlib inline\n",
    "import matplotlib.pyplot as plt"
   ]
  },
  {
   "cell_type": "code",
   "execution_count": 4,
   "metadata": {
    "colab": {
     "base_uri": "https://localhost:8080/"
    },
    "id": "eRqMfqoVvFud",
    "outputId": "f4d9a106-b3ca-4ffd-b2f1-fbdfd61acdd5"
   },
   "outputs": [
    {
     "name": "stdout",
     "output_type": "stream",
     "text": [
      "Downloading data from https://storage.googleapis.com/tensorflow/tf-keras-datasets/mnist.npz\n",
      "11490434/11490434 [==============================] - 30s 3us/step\n"
     ]
    }
   ],
   "source": [
    "(X_train, y_train), (X_test, y_test) = keras.datasets.mnist.load_data()"
   ]
  },
  {
   "cell_type": "code",
   "execution_count": 5,
   "metadata": {
    "colab": {
     "base_uri": "https://localhost:8080/"
    },
    "id": "nGNCCgkDva4d",
    "outputId": "2fd7e712-14d1-40f4-9678-65c4fa37ce22"
   },
   "outputs": [
    {
     "name": "stdout",
     "output_type": "stream",
     "text": [
      "60000\n",
      "10000\n"
     ]
    }
   ],
   "source": [
    "print(len(X_train))\n",
    "print(len(X_test))"
   ]
  },
  {
   "cell_type": "code",
   "execution_count": 6,
   "metadata": {
    "colab": {
     "base_uri": "https://localhost:8080/"
    },
    "id": "-NclUrfyvdhj",
    "outputId": "9dbc9f54-7b12-4069-d16a-4d2236b8fa0a"
   },
   "outputs": [
    {
     "data": {
      "text/plain": [
       "(28, 28)"
      ]
     },
     "execution_count": 6,
     "metadata": {},
     "output_type": "execute_result"
    }
   ],
   "source": [
    "X_train[0].shape"
   ]
  },
  {
   "cell_type": "code",
   "execution_count": 7,
   "metadata": {
    "colab": {
     "base_uri": "https://localhost:8080/",
     "height": 292
    },
    "id": "BJ2B41hSvqCs",
    "outputId": "f0550339-8904-4672-fdb0-9222f207d8a4"
   },
   "outputs": [
    {
     "name": "stdout",
     "output_type": "stream",
     "text": [
      "5\n"
     ]
    },
    {
     "data": {
      "image/png": "[encoded data removed]",
      "text/plain": [
       "<Figure size 288x288 with 1 Axes>"
      ]
     },
     "metadata": {
      "needs_background": "light"
     },
     "output_type": "display_data"
    }
   ],
   "source": [
    "plt.matshow(X_train[0]);\n",
    "print(y_train[0])"
   ]
  },
  {
   "cell_type": "code",
   "execution_count": 8,
   "metadata": {
    "colab": {
     "base_uri": "https://localhost:8080/"
    },
    "id": "FSx2affHv-3V",
    "outputId": "bf17f60c-6819-4e31-da9d-a8f2617e6d18"
   },
   "outputs": [
    {
     "data": {
      "text/plain": [
       "(60000, 28, 28)"
      ]
     },
     "execution_count": 8,
     "metadata": {},
     "output_type": "execute_result"
    }
   ],
   "source": [
    "X_train.shape\n"
   ]
  },
  {
   "cell_type": "code",
   "execution_count": 9,
   "metadata": {
    "id": "zZ1wB0B56g3E"
   },
   "outputs": [],
   "source": [
    "X_train = X_train/255\n",
    "X_test = X_test/255"
   ]
  },
  {
   "cell_type": "code",
   "execution_count": 10,
   "metadata": {
    "colab": {
     "base_uri": "https://localhost:8080/"
    },
    "id": "BjvwbGxNxBIu",
    "outputId": "c858d3ab-7704-448e-aac7-34ac0bf2b949"
   },
   "outputs": [
    {
     "data": {
      "text/plain": [
       "(60000, 784)"
      ]
     },
     "execution_count": 10,
     "metadata": {},
     "output_type": "execute_result"
    }
   ],
   "source": [
    "X_train_flattened = X_train.reshape(len(X_train), 28*28)\n",
    "X_test_flattened = X_test.reshape(len(X_test), 28*28)\n",
    "X_train_flattened.shape"
   ]
  },
  {
   "cell_type": "code",
   "execution_count": 11,
   "metadata": {
    "colab": {
     "base_uri": "https://localhost:8080/"
    },
    "id": "Rgr2aEM5xI9o",
    "outputId": "a984499d-603b-45cb-da69-5cbe1e358147"
   },
   "outputs": [
    {
     "name": "stdout",
     "output_type": "stream",
     "text": [
      "Epoch 1/7\n",
      "1875/1875 [==============================] - 10s 2ms/step - loss: 0.4644 - accuracy: 0.8784\n",
      "Epoch 2/7\n",
      "1875/1875 [==============================] - 3s 2ms/step - loss: 0.3036 - accuracy: 0.9149\n",
      "Epoch 3/7\n",
      "1875/1875 [==============================] - 3s 2ms/step - loss: 0.2835 - accuracy: 0.9208\n",
      "Epoch 4/7\n",
      "1875/1875 [==============================] - 3s 2ms/step - loss: 0.2730 - accuracy: 0.9234\n",
      "Epoch 5/7\n",
      "1875/1875 [==============================] - 3s 2ms/step - loss: 0.2666 - accuracy: 0.9257\n",
      "Epoch 6/7\n",
      "1875/1875 [==============================] - 3s 1ms/step - loss: 0.2623 - accuracy: 0.9264\n",
      "Epoch 7/7\n",
      "1875/1875 [==============================] - 3s 2ms/step - loss: 0.2586 - accuracy: 0.9287\n"
     ]
    },
    {
     "data": {
      "text/plain": [
       "<keras.callbacks.History at 0x265afbeed00>"
      ]
     },
     "execution_count": 11,
     "metadata": {},
     "output_type": "execute_result"
    }
   ],
   "source": [
    "model = keras.Sequential([\n",
    "    keras.layers.Dense(10, input_shape=(784,), activation='sigmoid')\n",
    "])\n",
    "\n",
    "model.compile(optimizer='adam',\n",
    "              loss='sparse_categorical_crossentropy',\n",
    "              metrics=['accuracy'])\n",
    "\n",
    "model.fit(X_train_flattened, y_train, epochs=7)"
   ]
  },
  {
   "cell_type": "code",
   "execution_count": 12,
   "metadata": {
    "colab": {
     "base_uri": "https://localhost:8080/"
    },
    "id": "qlz4Y7I-48o0",
    "outputId": "49278624-a4ab-455b-8f42-f33adc70dbec"
   },
   "outputs": [
    {
     "name": "stdout",
     "output_type": "stream",
     "text": [
      "313/313 [==============================] - 1s 1ms/step - loss: 0.2667 - accuracy: 0.9262\n"
     ]
    },
    {
     "data": {
      "text/plain": [
       "[0.2667146325111389, 0.9261999726295471]"
      ]
     },
     "execution_count": 12,
     "metadata": {},
     "output_type": "execute_result"
    }
   ],
   "source": [
    "model.evaluate(X_test_flattened, y_test)"
   ]
  },
  {
   "cell_type": "code",
   "execution_count": 13,
   "metadata": {
    "colab": {
     "base_uri": "https://localhost:8080/",
     "height": 292
    },
    "id": "TLx734RbLMvO",
    "outputId": "13bad1ed-bcd5-428c-a723-cd6d99e7ddbe"
   },
   "outputs": [
    {
     "data": {
      "text/plain": [
       "<matplotlib.image.AxesImage at 0x265b213e8e0>"
      ]
     },
     "execution_count": 13,
     "metadata": {},
     "output_type": "execute_result"
    },
    {
     "data": {
      "image/png": "[encoded data removed]",
      "text/plain": [
       "<Figure size 288x288 with 1 Axes>"
      ]
     },
     "metadata": {
      "needs_background": "light"
     },
     "output_type": "display_data"
    }
   ],
   "source": [
    "plt.matshow(X_test[2])"
   ]
  },
  {
   "cell_type": "code",
   "execution_count": 14,
   "metadata": {
    "colab": {
     "base_uri": "https://localhost:8080/"
    },
    "id": "rfDlxm_SMF_R",
    "outputId": "972201dc-a495-4f48-a3c9-ee7461cc8f11"
   },
   "outputs": [
    {
     "name": "stdout",
     "output_type": "stream",
     "text": [
      "313/313 [==============================] - 1s 1ms/step\n"
     ]
    }
   ],
   "source": [
    "y_predicted = model.predict(X_test_flattened)"
   ]
  },
  {
   "cell_type": "code",
   "execution_count": 15,
   "metadata": {
    "colab": {
     "base_uri": "https://localhost:8080/"
    },
    "id": "DS-E4AMZMRv0",
    "outputId": "fcf64091-341f-4d5a-d647-9a19557fe334"
   },
   "outputs": [
    {
     "data": {
      "text/plain": [
       "1"
      ]
     },
     "execution_count": 15,
     "metadata": {},
     "output_type": "execute_result"
    }
   ],
   "source": [
    "np.argmax(y_predicted[2])"
   ]
  },
  {
   "cell_type": "code",
   "execution_count": 16,
   "metadata": {
    "colab": {
     "base_uri": "https://localhost:8080/"
    },
    "id": "QMiWFB8ZMhuc",
    "outputId": "a6e014ac-55d8-4530-f296-f52a23f0b557"
   },
   "outputs": [
    {
     "data": {
      "text/plain": [
       "array([1.4282283e-02, 8.2072063e-08, 3.5688438e-02, 9.6889174e-01,\n",
       "       2.1939154e-03, 1.3307492e-01, 3.7089151e-07, 9.9983877e-01,\n",
       "       6.4760879e-02, 6.4722890e-01], dtype=float32)"
      ]
     },
     "execution_count": 16,
     "metadata": {},
     "output_type": "execute_result"
    }
   ],
   "source": [
    "y_predicted[0]"
   ]
  },
  {
   "cell_type": "code",
   "execution_count": 17,
   "metadata": {
    "colab": {
     "base_uri": "https://localhost:8080/"
    },
    "id": "ut-LpdHZNu3n",
    "outputId": "31a08dbe-f457-42ca-8fb4-dd2fb4be2bf6"
   },
   "outputs": [
    {
     "data": {
      "text/plain": [
       "[7, 2, 1, 0, 4]"
      ]
     },
     "execution_count": 17,
     "metadata": {},
     "output_type": "execute_result"
    }
   ],
   "source": [
    "y_predicted_labels = [np.argmax(i) for i in y_predicted]\n",
    "y_predicted_labels[:5]"
   ]
  },
  {
   "cell_type": "code",
   "execution_count": 18,
   "metadata": {
    "colab": {
     "base_uri": "https://localhost:8080/"
    },
    "id": "xtFBSOjjN492",
    "outputId": "64cd6c04-bc0d-46af-97e5-d3f77bc485f2"
   },
   "outputs": [
    {
     "data": {
      "text/plain": [
       "array([7, 2, 1, 0, 4], dtype=uint8)"
      ]
     },
     "execution_count": 18,
     "metadata": {},
     "output_type": "execute_result"
    }
   ],
   "source": [
    "y_test[:5]"
   ]
  },
  {
   "cell_type": "markdown",
   "metadata": {
    "id": "_J7uPiT1OD0e"
   },
   "source": [
    "## confusion matrix"
   ]
  },
  {
   "cell_type": "code",
   "execution_count": 19,
   "metadata": {
    "colab": {
     "base_uri": "https://localhost:8080/"
    },
    "id": "stH9BFJHOGj0",
    "outputId": "04e2a850-c7e1-4d01-b134-277565b11fdc"
   },
   "outputs": [
    {
     "data": {
      "text/plain": [
       "<tf.Tensor: shape=(10, 10), dtype=int32, numpy=\n",
       "array([[ 961,    0,    1,    2,    0,    5,    7,    3,    1,    0],\n",
       "       [   0, 1116,    3,    2,    0,    1,    4,    2,    7,    0],\n",
       "       [   7,   10,  918,   21,    8,    3,   13,   10,   39,    3],\n",
       "       [   2,    0,   18,  938,    0,   18,    2,   11,   15,    6],\n",
       "       [   1,    1,    2,    2,  917,    0,   13,    4,   10,   32],\n",
       "       [   8,    3,    2,   45,    7,  773,   16,    8,   26,    4],\n",
       "       [  10,    3,    5,    1,    7,   13,  916,    2,    1,    0],\n",
       "       [   1,    7,   21,    8,    8,    1,    0,  954,    2,   26],\n",
       "       [   9,   10,    5,   32,    8,   26,   10,   12,  853,    9],\n",
       "       [  11,    7,    1,   13,   28,    6,    0,   24,    3,  916]])>"
      ]
     },
     "execution_count": 19,
     "metadata": {},
     "output_type": "execute_result"
    }
   ],
   "source": [
    "cm = tf.math.confusion_matrix(labels=y_test, predictions=y_predicted_labels)\n",
    "cm"
   ]
  },
  {
   "cell_type": "code",
   "execution_count": 20,
   "metadata": {
    "colab": {
     "base_uri": "https://localhost:8080/",
     "height": 459
    },
    "id": "15yW3shTOWZG",
    "outputId": "4778fe2c-f2c3-489f-b038-62f86d2854f0"
   },
   "outputs": [
    {
     "data": {
      "text/plain": [
       "Text(69.0, 0.5, 'truth')"
      ]
     },
     "execution_count": 20,
     "metadata": {},
     "output_type": "execute_result"
    },
    {
     "data": {
      "image/png": "[encoded data removed]",
      "text/plain": [
       "<Figure size 720x504 with 2 Axes>"
      ]
     },
     "metadata": {
      "needs_background": "light"
     },
     "output_type": "display_data"
    }
   ],
   "source": [
    "import seaborn as sn\n",
    "plt.figure(figsize=(10,7))\n",
    "sn.heatmap(cm, annot=True, fmt='d')\n",
    "plt.xlabel('predicted')\n",
    "plt.ylabel('truth')"
   ]
  },
  {
   "cell_type": "code",
   "execution_count": 21,
   "metadata": {
    "colab": {
     "base_uri": "https://localhost:8080/"
    },
    "id": "HRFWF6VtalSe",
    "outputId": "a4e30031-6407-4906-8f91-50414b2e5ec9"
   },
   "outputs": [
    {
     "name": "stdout",
     "output_type": "stream",
     "text": [
      "Epoch 1/7\n",
      "1875/1875 [==============================] - 6s 3ms/step - loss: 0.2712 - accuracy: 0.9234\n",
      "Epoch 2/7\n",
      "1875/1875 [==============================] - 5s 2ms/step - loss: 0.1223 - accuracy: 0.9639\n",
      "Epoch 3/7\n",
      "1875/1875 [==============================] - 5s 3ms/step - loss: 0.0870 - accuracy: 0.9738\n",
      "Epoch 4/7\n",
      "1875/1875 [==============================] - 5s 3ms/step - loss: 0.0659 - accuracy: 0.9803\n",
      "Epoch 5/7\n",
      "1875/1875 [==============================] - 5s 3ms/step - loss: 0.0523 - accuracy: 0.9836\n",
      "Epoch 6/7\n",
      "1875/1875 [==============================] - 5s 3ms/step - loss: 0.0414 - accuracy: 0.9870\n",
      "Epoch 7/7\n",
      "1875/1875 [==============================] - 5s 3ms/step - loss: 0.0354 - accuracy: 0.9894\n"
     ]
    },
    {
     "data": {
      "text/plain": [
       "<keras.callbacks.History at 0x265b20c1bb0>"
      ]
     },
     "execution_count": 21,
     "metadata": {},
     "output_type": "execute_result"
    }
   ],
   "source": [
    "model = keras.Sequential([\n",
    "    keras.layers.Dense(100, input_shape=(784,), activation='relu'),\n",
    "    keras.layers.Dense(10, activation='sigmoid')\n",
    "])\n",
    "\n",
    "model.compile(optimizer='adam',\n",
    "              loss='sparse_categorical_crossentropy',\n",
    "              metrics=['accuracy'])\n",
    "\n",
    "model.fit(X_train_flattened, y_train, epochs=7)"
   ]
  },
  {
   "cell_type": "code",
   "execution_count": 22,
   "metadata": {
    "colab": {
     "base_uri": "https://localhost:8080/"
    },
    "id": "WBTNl3LUcUl_",
    "outputId": "6407aa5a-6edd-4b64-c41a-4aa9d83edf4d"
   },
   "outputs": [
    {
     "name": "stdout",
     "output_type": "stream",
     "text": [
      "313/313 [==============================] - 1s 2ms/step - loss: 0.0763 - accuracy: 0.9754\n"
     ]
    },
    {
     "data": {
      "text/plain": [
       "[0.07628212869167328, 0.9753999710083008]"
      ]
     },
     "execution_count": 22,
     "metadata": {},
     "output_type": "execute_result"
    }
   ],
   "source": [
    "model.evaluate(X_test_flattened, y_test)"
   ]
  },
  {
   "cell_type": "code",
   "execution_count": 23,
   "metadata": {
    "colab": {
     "base_uri": "https://localhost:8080/",
     "height": 477
    },
    "id": "zxNGPsB3cu1n",
    "outputId": "8634a8f3-a439-43a7-da7c-b79a4ce8f656"
   },
   "outputs": [
    {
     "name": "stdout",
     "output_type": "stream",
     "text": [
      "313/313 [==============================] - 1s 1ms/step\n"
     ]
    },
    {
     "data": {
      "text/plain": [
       "Text(69.0, 0.5, 'truth')"
      ]
     },
     "execution_count": 23,
     "metadata": {},
     "output_type": "execute_result"
    },
    {
     "data": {
      "image/png": "[encoded data removed]",
      "text/plain": [
       "<Figure size 720x504 with 2 Axes>"
      ]
     },
     "metadata": {
      "needs_background": "light"
     },
     "output_type": "display_data"
    }
   ],
   "source": [
    "y_predicted = model.predict(X_test_flattened)\n",
    "y_predicted_labels = [np.argmax(i) for i in y_predicted]\n",
    "cm = tf.math.confusion_matrix(labels=y_test, predictions=y_predicted_labels)\n",
    "\n",
    "plt.figure(figsize=(10,7))\n",
    "sn.heatmap(cm, annot=True, fmt='d')\n",
    "plt.xlabel('predicted')\n",
    "plt.ylabel('truth')"
   ]
  },
  {
   "cell_type": "code",
   "execution_count": 24,
   "metadata": {
    "colab": {
     "base_uri": "https://localhost:8080/"
    },
    "id": "wPTiEZb3dH8Q",
    "outputId": "eaa2e056-fb55-46e1-f40d-4f287fd1f137"
   },
   "outputs": [
    {
     "name": "stdout",
     "output_type": "stream",
     "text": [
      "Epoch 1/7\n",
      "1875/1875 [==============================] - 8s 4ms/step - loss: 0.2736 - accuracy: 0.9236\n",
      "Epoch 2/7\n",
      "1875/1875 [==============================] - 5s 3ms/step - loss: 0.1274 - accuracy: 0.9626\n",
      "Epoch 3/7\n",
      "1875/1875 [==============================] - 5s 3ms/step - loss: 0.0895 - accuracy: 0.9731\n",
      "Epoch 4/7\n",
      "1875/1875 [==============================] - 5s 3ms/step - loss: 0.0689 - accuracy: 0.9791\n",
      "Epoch 5/7\n",
      "1875/1875 [==============================] - 6s 3ms/step - loss: 0.0535 - accuracy: 0.9839\n",
      "Epoch 6/7\n",
      "1875/1875 [==============================] - 5s 3ms/step - loss: 0.0446 - accuracy: 0.9864\n",
      "Epoch 7/7\n",
      "1875/1875 [==============================] - 7s 3ms/step - loss: 0.0351 - accuracy: 0.9892\n"
     ]
    },
    {
     "data": {
      "text/plain": [
       "<keras.callbacks.History at 0x265dbae6610>"
      ]
     },
     "execution_count": 24,
     "metadata": {},
     "output_type": "execute_result"
    }
   ],
   "source": [
    "model = keras.Sequential([\n",
    "    keras.layers.Flatten(input_shape=(28,28)),\n",
    "    keras.layers.Dense(100, activation='relu'),\n",
    "    keras.layers.Dense(10, activation='sigmoid')\n",
    "])\n",
    "\n",
    "tb_callback = tf.keras.callbacks.TensorBoard(log_dir='logs/adam', histogram_freq=1)\n",
    "\n",
    "model.compile(optimizer='adam',\n",
    "              loss='sparse_categorical_crossentropy',\n",
    "              metrics=['accuracy'])\n",
    "\n",
    "model.fit(X_train, y_train, epochs=7, callbacks=[tb_callback])"
   ]
  },
  {
   "cell_type": "code",
   "execution_count": 25,
   "metadata": {
    "id": "HEpd3gYZlRj9"
   },
   "outputs": [
    {
     "data": {
      "text/plain": [
       "ERROR: Timed out waiting for TensorBoard to start. It may still be running as pid 14436."
      ]
     },
     "metadata": {},
     "output_type": "display_data"
    }
   ],
   "source": [
    "%load_ext tensorboard\n",
    "%tensorboard --logdir logs/fit"
   ]
  },
  {
   "cell_type": "code",
   "execution_count": null,
   "metadata": {},
   "outputs": [],
   "source": []
  }
 ],
 "metadata": {
  "accelerator": "GPU",
  "colab": {
   "provenance": []
  },
  "gpuClass": "standard",
  "kernelspec": {
   "display_name": "Python 3 (ipykernel)",
   "language": "python",
   "name": "python3"
  },
  "language_info": {
   "codemirror_mode": {
    "name": "ipython",
    "version": 3
   },
   "file_extension": ".py",
   "mimetype": "text/x-python",
   "name": "python",
   "nbconvert_exporter": "python",
   "pygments_lexer": "ipython3",
   "version": "3.9.7"
  }
 },
 "nbformat": 4,
 "nbformat_minor": 1
}
